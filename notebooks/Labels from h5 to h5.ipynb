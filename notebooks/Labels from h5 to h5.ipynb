{
 "cells": [
  {
   "cell_type": "code",
   "execution_count": 1,
   "metadata": {},
   "outputs": [],
   "source": [
    "import h5py\n",
    "import numpy as np"
   ]
  },
  {
   "cell_type": "code",
   "execution_count": 2,
   "metadata": {},
   "outputs": [],
   "source": [
    "data_labeled = h5py.File('datasets/eccv16_dataset_tvsum_google_pool5.h5', 'r')"
   ]
  },
  {
   "cell_type": "code",
   "execution_count": 3,
   "metadata": {},
   "outputs": [],
   "source": [
    "data_nonlabeled = h5py.File('tvsum.h5', 'r')"
   ]
  },
  {
   "cell_type": "code",
   "execution_count": 4,
   "metadata": {},
   "outputs": [],
   "source": [
    "new = h5py.File('with_labels_tvsum.h5', 'w')"
   ]
  },
  {
   "cell_type": "code",
   "execution_count": 5,
   "metadata": {},
   "outputs": [],
   "source": [
    "for key in data_nonlabeled.keys():\n",
    "    new.create_group(key)\n",
    "    for item in data_nonlabeled[key].items():\n",
    "        arr = np.zeros(item[1].shape, dtype='float32')\n",
    "        item[1].read_direct(arr)\n",
    "        new[key][item[0]] = arr"
   ]
  },
  {
   "cell_type": "code",
   "execution_count": 6,
   "metadata": {},
   "outputs": [],
   "source": [
    "for key in data_labeled.keys():\n",
    "    for item in data_labeled[key].items():\n",
    "        if item[0] not in ['gtscore','gtsummary','user_summary']:\n",
    "            continue\n",
    "        arr = np.zeros(item[1].shape, dtype='float32')\n",
    "        item[1].read_direct(arr)\n",
    "        new[key][item[0]] = arr"
   ]
  },
  {
   "cell_type": "code",
   "execution_count": 7,
   "metadata": {},
   "outputs": [],
   "source": [
    "new.close()"
   ]
  },
  {
   "cell_type": "code",
   "execution_count": null,
   "metadata": {},
   "outputs": [],
   "source": []
  }
 ],
 "metadata": {
  "kernelspec": {
   "display_name": "envRL",
   "language": "python",
   "name": "envrl"
  },
  "language_info": {
   "codemirror_mode": {
    "name": "ipython",
    "version": 3
   },
   "file_extension": ".py",
   "mimetype": "text/x-python",
   "name": "python",
   "nbconvert_exporter": "python",
   "pygments_lexer": "ipython3",
   "version": "3.9.6"
  }
 },
 "nbformat": 4,
 "nbformat_minor": 4
}
